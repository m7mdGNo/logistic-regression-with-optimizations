{
 "cells": [
  {
   "cell_type": "code",
   "execution_count": 1,
   "id": "96ae5f4a",
   "metadata": {},
   "outputs": [],
   "source": [
    "import numpy as np\n",
    "import pandas as pd\n",
    "import matplotlib.pyplot as plt\n",
    "from sklearn.model_selection import train_test_split\n",
    "import random\n",
    "from itertools import count\n",
    "from matplotlib.animation import FuncAnimation\n",
    "%matplotlib inline "
   ]
  },
  {
   "cell_type": "code",
   "execution_count": 2,
   "id": "1633f383",
   "metadata": {},
   "outputs": [],
   "source": [
    "class LogisticRegression:\n",
    "    def __init__(self,x,y):\n",
    "        self.x = x\n",
    "        self.y = y \n",
    "        self.m = self.x.shape[0]\n",
    "        self.w = np.matrix(np.ones(self.x.shape[1]))\n",
    "        self.b = 0\n",
    "        #momentum\n",
    "        self.v_w = np.matrix(np.zeros(self.x.shape[1]))\n",
    "        self.v_b = 0\n",
    "        #RMSProp\n",
    "        self.s_w = np.matrix(np.zeros(self.x.shape[1]))\n",
    "        self.s_b = 0\n",
    "    \n",
    "    def sigmoid(self,z):\n",
    "        return 1/1+np.exp(-z)\n",
    "    \n",
    "    def predict(self,x):\n",
    "        z = np.dot(x,self.w.T)\n",
    "        z += self.b\n",
    "        return self.sigmoid(z)\n",
    "    \n",
    "    def cost(self,hx,y):\n",
    "        return -np.sum((y*np.log(hx))+((1-y)*np.log(1-hx)))/self.m\n",
    "        \n",
    "    def fit(self,iteration,alpha,optimizer='no'):\n",
    "        cost = np.zeros(iteration)\n",
    "        for i in range(iteration):\n",
    "            y_pred = self.predict(self.x)\n",
    "            dw = np.dot((y_pred-self.y).T,self.x)\n",
    "            db = np.sum(y_pred-self.y)\n",
    "            \n",
    "            \n",
    "            if optimizer == 'momentum':\n",
    "                self.v_w = 0.9*self.v_w+dw\n",
    "                dw = self.v_w\n",
    "                self.v_b = 0.9*self.v_b+db\n",
    "                db = self.v_b\n",
    "                \n",
    "                \n",
    "            if optimizer == 'RMSProp':\n",
    "                self.s_w = 0.999*self.s_w+(1-0.999)*np.power(dw,2)\n",
    "                dw = ((dw)/np.sqrt(self.s_w)+0.000000001)\n",
    "                self.s_b = 0.999*self.s_b+(1-0.999)*np.power(db,2)\n",
    "                db = ((db)/np.sqrt(self.s_b)+0.000000001)\n",
    "\n",
    "            if optimizer == 'adam' :\n",
    "                self.v_w = 0.9*self.v_w+dw\n",
    "                self.v_b = 0.9*self.v_b+db\n",
    "                self.s_w = 0.999*self.s_w+(1-0.999)*np.power(dw,2)\n",
    "                self.s_b = 0.999*self.s_b+(1-0.999)*np.power(db,2)\n",
    "                dw = ((self.v_w)/np.sqrt(self.s_w)+0.000000001)\n",
    "                db = ((self.v_b)/np.sqrt(self.s_b)+0.000000001)\n",
    "            \n",
    "            self.w -= alpha*dw\n",
    "            self.b -= alpha*db\n",
    "            cost[i] = self.cost(y_pred,self.y)\n",
    "        return cost\n",
    "    "
   ]
  },
  {
   "cell_type": "code",
   "execution_count": 3,
   "id": "7faedabd",
   "metadata": {},
   "outputs": [
    {
     "name": "stderr",
     "output_type": "stream",
     "text": [
      "<ipython-input-2-370bc0a41fb7>:24: RuntimeWarning: invalid value encountered in log\n",
      "  return -np.sum((y*np.log(hx))+((1-y)*np.log(1-hx)))/self.m\n",
      "<ipython-input-2-370bc0a41fb7>:16: RuntimeWarning: overflow encountered in exp\n",
      "  return 1/1+np.exp(-z)\n",
      "<ipython-input-2-370bc0a41fb7>:24: RuntimeWarning: divide by zero encountered in log\n",
      "  return -np.sum((y*np.log(hx))+((1-y)*np.log(1-hx)))/self.m\n"
     ]
    }
   ],
   "source": [
    "def data_normalize(data):\n",
    "        return ((data-data.mean())/data.std()).round(4)\n",
    "\n",
    "data = pd.read_csv('Social_Network_Ads.csv')\n",
    "# data.insert(0,'ones',1)\n",
    "cols = data.shape[1]\n",
    "x = data.iloc[:,0:cols-1]\n",
    "y = data.iloc[:,cols-1:cols]\n",
    "x = data_normalize(x)\n",
    "x_test,x_train,y_test,y_train=train_test_split(x,y,train_size=0.7)\n",
    "\n",
    "classifier = LogisticRegression(x_train,y_train)\n",
    "iters = 100\n",
    "alpha = 0.01\n",
    "cost = classifier.fit(iters,alpha)\n"
   ]
  },
  {
   "cell_type": "code",
   "execution_count": null,
   "id": "12c7d953",
   "metadata": {},
   "outputs": [],
   "source": []
  },
  {
   "cell_type": "code",
   "execution_count": null,
   "id": "c01b70a3",
   "metadata": {},
   "outputs": [],
   "source": []
  },
  {
   "cell_type": "code",
   "execution_count": null,
   "id": "49fa2760",
   "metadata": {},
   "outputs": [],
   "source": []
  },
  {
   "cell_type": "code",
   "execution_count": null,
   "id": "cab83e5f",
   "metadata": {},
   "outputs": [],
   "source": []
  },
  {
   "cell_type": "code",
   "execution_count": null,
   "id": "f0d82aa6",
   "metadata": {},
   "outputs": [],
   "source": []
  },
  {
   "cell_type": "code",
   "execution_count": null,
   "id": "3c67002b",
   "metadata": {},
   "outputs": [],
   "source": []
  }
 ],
 "metadata": {
  "kernelspec": {
   "display_name": "Python 3",
   "language": "python",
   "name": "python3"
  },
  "language_info": {
   "codemirror_mode": {
    "name": "ipython",
    "version": 3
   },
   "file_extension": ".py",
   "mimetype": "text/x-python",
   "name": "python",
   "nbconvert_exporter": "python",
   "pygments_lexer": "ipython3",
   "version": "3.8.8"
  }
 },
 "nbformat": 4,
 "nbformat_minor": 5
}
